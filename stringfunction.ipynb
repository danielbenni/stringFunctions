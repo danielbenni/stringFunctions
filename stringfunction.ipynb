{
 "cells": [
  {
   "cell_type": "code",
   "execution_count": 4,
   "id": "18f879db",
   "metadata": {},
   "outputs": [
    {
     "name": "stdout",
     "output_type": "stream",
     "text": [
      "string functions\n",
      "\n",
      " 1.count \n",
      " 2.swaocase \n",
      " 3.lower \n",
      " 4.capital \n",
      " 5.title\n",
      "enter the choice for the above string function : \n",
      "1\n",
      "enter the string\n",
      "benni\n",
      "enter the character to count : \n",
      "n\n",
      "2\n",
      "do you want to continue press y or not to continue press n\n",
      "y\n",
      "enter the choice for the above string function : \n",
      "5\n",
      "enter the string to make capital of each word in a string : \n",
      "daniel benni\n",
      "Daniel Benni\n",
      "do you want to continue press y or not to continue press n\n",
      "n\n",
      "program is stopped\n"
     ]
    }
   ],
   "source": [
    "def countfunction():\n",
    "    print(\"enter the string\")\n",
    "    str1=input()\n",
    "    print(\"enter the character to count : \")\n",
    "    str=input()\n",
    "    str2=str1.count(str,0,100)\n",
    "    print(str2)\n",
    "def swapestring():\n",
    "    print(\"enter the string to swapecase : \")\n",
    "    str1=input()\n",
    "    str2=str1.swapcase()\n",
    "    print(str2)\n",
    "def lower():\n",
    "    print(\"enter the string to check whether lowercase or not : \")\n",
    "    str1=input()\n",
    "    str2=str1.islower()\n",
    "    if(str2==True):\n",
    "        print(\"given string is lowercase\")\n",
    "    else:\n",
    "        print(\"its not lowercase string\")\n",
    "def capital():\n",
    "    print(\"enter the string to make caps : \")\n",
    "    str1=input()\n",
    "    str2=str1.capitalize()\n",
    "    print(str2)\n",
    "def strtitle():\n",
    "    print(\"enter the string to make capital of each word in a string : \")\n",
    "    str1=input()\n",
    "    str2=str1.title()\n",
    "    print(str2)\n",
    "print(\"string functions\")\n",
    "print(\"\\n 1.count \\n 2.swaocase \\n 3.lower \\n 4.capital \\n 5.title\")\n",
    "def main():\n",
    "    while True:\n",
    "        print(\"enter the choice for the above string function : \")\n",
    "        choice = input()\n",
    "        if choice == \"1\":\n",
    "            countfunction()\n",
    "        elif choice == \"2\":\n",
    "            swapestring()\n",
    "        elif choice == \"3\":\n",
    "            lower()\n",
    "        elif choice == \"4\":\n",
    "            capital()\n",
    "        elif choice == \"5\":\n",
    "            strtitle()\n",
    "        else:\n",
    "            print(\"\\n enter valid choice between 1 to 5 : \")\n",
    "        print(\"do you want to continue press y or not to continue press n\")\n",
    "        inn=input()\n",
    "        if(inn=='N' or inn=='n'):\n",
    "            print(\"program is stopped\")\n",
    "            break\n",
    "        elif(inn=='Y' or inn=='y'):\n",
    "            continue\n",
    "main()"
   ]
  },
  {
   "cell_type": "code",
   "execution_count": null,
   "id": "11a9196d",
   "metadata": {},
   "outputs": [],
   "source": []
  }
 ],
 "metadata": {
  "kernelspec": {
   "display_name": "Python 3 (ipykernel)",
   "language": "python",
   "name": "python3"
  },
  "language_info": {
   "codemirror_mode": {
    "name": "ipython",
    "version": 3
   },
   "file_extension": ".py",
   "mimetype": "text/x-python",
   "name": "python",
   "nbconvert_exporter": "python",
   "pygments_lexer": "ipython3",
   "version": "3.9.13"
  }
 },
 "nbformat": 4,
 "nbformat_minor": 5
}
